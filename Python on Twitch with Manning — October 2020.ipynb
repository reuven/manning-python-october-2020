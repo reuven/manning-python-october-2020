{
 "cells": [
  {
   "cell_type": "code",
   "execution_count": 1,
   "metadata": {},
   "outputs": [],
   "source": [
    "# DRY -- don't repeat yourself"
   ]
  },
  {
   "cell_type": "code",
   "execution_count": 2,
   "metadata": {},
   "outputs": [
    {
     "name": "stdout",
     "output_type": "stream",
     "text": [
      "Hello, Reuven!\n"
     ]
    }
   ],
   "source": [
    "class Person:\n",
    "    def __init__(self, name):\n",
    "        self.name = name\n",
    "        \n",
    "    def greet(self):\n",
    "        return f'Hello, {self.name}!'\n",
    "    \n",
    "p1 = Person('Reuven')\n",
    "print(p1.greet())"
   ]
  },
  {
   "cell_type": "code",
   "execution_count": 3,
   "metadata": {},
   "outputs": [
    {
     "name": "stdout",
     "output_type": "stream",
     "text": [
      "Hello, someone else!\n"
     ]
    }
   ],
   "source": [
    "p2 = Person('someone else')\n",
    "print(p2.greet())"
   ]
  },
  {
   "cell_type": "code",
   "execution_count": 4,
   "metadata": {},
   "outputs": [
    {
     "name": "stdout",
     "output_type": "stream",
     "text": [
      "Hello, emp1!\n"
     ]
    }
   ],
   "source": [
    "class Employee:\n",
    "    def __init__(self, name, id_number):\n",
    "        self.name = name\n",
    "        self.id_number = id_number\n",
    "        \n",
    "    def greet(self):\n",
    "        return f'Hello, {self.name}!'\n",
    "    \n",
    "e1 = Employee('emp1', 1)\n",
    "print(e1.greet())  # class -- does Employee have an attribute \"greet\"?"
   ]
  },
  {
   "cell_type": "code",
   "execution_count": 5,
   "metadata": {},
   "outputs": [],
   "source": [
    "# every employee is a person!\n",
    "# if we have that \"is-a\" relationship, it means that we can use INHERITANCE"
   ]
  },
  {
   "cell_type": "code",
   "execution_count": null,
   "metadata": {},
   "outputs": [],
   "source": [
    "# ICPO -- lookup path for attributes (things after a dot in Python)\n",
    "\n",
    "# - instance\n",
    "# - class\n",
    "# - parents\n",
    "# - object"
   ]
  },
  {
   "cell_type": "code",
   "execution_count": 6,
   "metadata": {},
   "outputs": [
    {
     "name": "stdout",
     "output_type": "stream",
     "text": [
      "Hello, Reuven!\n",
      "5\n"
     ]
    }
   ],
   "source": [
    "class Person:\n",
    "    def __init__(self, name):\n",
    "        self.name = name\n",
    "        \n",
    "    def greet(self):\n",
    "        return f'Hello, {self.name}!'\n",
    "    \n",
    "    def return_five(self):\n",
    "        return 5\n",
    "    \n",
    "p1 = Person('Reuven')\n",
    "print(p1.greet())\n",
    "print(p1.return_five())"
   ]
  },
  {
   "cell_type": "code",
   "execution_count": 8,
   "metadata": {},
   "outputs": [
    {
     "name": "stdout",
     "output_type": "stream",
     "text": [
      "Hello, emp1!\n",
      "5\n"
     ]
    }
   ],
   "source": [
    "class Employee(Person):   # Employee is-a Person -- Employee inherits from Person!\n",
    "    def __init__(self, name, id_number):\n",
    "        self.name = name\n",
    "        self.id_number = id_number\n",
    "        \n",
    "    def greet(self):\n",
    "        return f'Hello, {self.name}!'\n",
    "    \n",
    "e1 = Employee('emp1', 1)\n",
    "print(e1.greet())  # class -- does Employee have an attribute \"greet\"?\n",
    "print(e1.return_five())"
   ]
  },
  {
   "cell_type": "code",
   "execution_count": 9,
   "metadata": {},
   "outputs": [],
   "source": [
    "# paradigm #1: let the parent do the work"
   ]
  },
  {
   "cell_type": "code",
   "execution_count": 10,
   "metadata": {},
   "outputs": [
    {
     "name": "stdout",
     "output_type": "stream",
     "text": [
      "Hello, emp1!\n"
     ]
    }
   ],
   "source": [
    "class Employee(Person):   # Employee is-a Person -- Employee inherits from Person!\n",
    "    def __init__(self, name, id_number):\n",
    "        self.name = name\n",
    "        self.id_number = id_number\n",
    "           \n",
    "e1 = Employee('emp1', 1)\n",
    "print(e1.greet())  # does Person (e1's class's parent) have the attribute greet? YES\n"
   ]
  },
  {
   "cell_type": "code",
   "execution_count": 11,
   "metadata": {},
   "outputs": [],
   "source": [
    "# paradigm #2: do it ourselves; don't rely on the parent\n"
   ]
  },
  {
   "cell_type": "code",
   "execution_count": 12,
   "metadata": {},
   "outputs": [
    {
     "name": "stdout",
     "output_type": "stream",
     "text": [
      "Hello, emp1!\n",
      "Hi hi hi ho I am working\n"
     ]
    }
   ],
   "source": [
    "class Employee(Person):   # Employee is-a Person -- Employee inherits from Person!\n",
    "    def __init__(self, name, id_number):\n",
    "        self.name = name\n",
    "        self.id_number = id_number\n",
    "        \n",
    "    def work(self):\n",
    "        return 'Hi hi hi ho I am working'\n",
    "           \n",
    "e1 = Employee('emp1', 1)\n",
    "print(e1.greet())  # does Person (e1's class's parent) have the attribute greet? YES\n",
    "print(e1.work())  # does e1's class have the attribute work? YES"
   ]
  },
  {
   "cell_type": "code",
   "execution_count": 13,
   "metadata": {},
   "outputs": [
    {
     "name": "stdout",
     "output_type": "stream",
     "text": [
      "Hello, fellow employee emp1!\n",
      "Hi hi hi ho I am working\n"
     ]
    }
   ],
   "source": [
    "class Employee(Person):   # Employee is-a Person -- Employee inherits from Person!\n",
    "    def __init__(self, name, id_number):\n",
    "        self.name = name\n",
    "        self.id_number = id_number\n",
    "        \n",
    "    def work(self):\n",
    "        return 'Hi hi hi ho I am working'\n",
    "    \n",
    "    def greet(self):\n",
    "        return f'Hello, fellow employee {self.name}!'\n",
    "           \n",
    "e1 = Employee('emp1', 1)\n",
    "print(e1.greet())  # does e1's class have greet? YES\n",
    "print(e1.work())  # does e1's class have the attribute work? YES"
   ]
  },
  {
   "cell_type": "code",
   "execution_count": 14,
   "metadata": {},
   "outputs": [
    {
     "name": "stdout",
     "output_type": "stream",
     "text": [
      "<__main__.Employee object at 0x10cb750d0>\n"
     ]
    }
   ],
   "source": [
    "print(e1)"
   ]
  },
  {
   "cell_type": "code",
   "execution_count": 15,
   "metadata": {},
   "outputs": [
    {
     "name": "stdout",
     "output_type": "stream",
     "text": [
      "<__main__.Employee object at 0x10cb750d0>\n"
     ]
    }
   ],
   "source": [
    "print(str(e1))"
   ]
  },
  {
   "cell_type": "code",
   "execution_count": null,
   "metadata": {},
   "outputs": [],
   "source": []
  }
 ],
 "metadata": {
  "kernelspec": {
   "display_name": "Python 3",
   "language": "python",
   "name": "python3"
  },
  "language_info": {
   "codemirror_mode": {
    "name": "ipython",
    "version": 3
   },
   "file_extension": ".py",
   "mimetype": "text/x-python",
   "name": "python",
   "nbconvert_exporter": "python",
   "pygments_lexer": "ipython3",
   "version": "3.8.6"
  }
 },
 "nbformat": 4,
 "nbformat_minor": 4
}
